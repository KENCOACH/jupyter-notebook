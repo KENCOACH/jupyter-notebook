{
 "cells": [
  {
   "cell_type": "markdown",
   "metadata": {},
   "source": [
    "##  シンプルなランレングス符号化のプログラム練習\n",
    "\n",
    "2019/01/21\n",
    "\n",
    "Srini Devadas『問題解決のPythonプログラミング　数学パズルで鍛えるアルゴリズム思考』第一章を参考にしています。"
   ]
  },
  {
   "cell_type": "markdown",
   "metadata": {},
   "source": [
    "## 問題\n",
    "### 符号化\n",
    "```BBBBGGGGGHHHHHHHHRRRRRTTTTTTEEEEEELLLLLLDDDKKSSIIWWWFFF```のような文字列を```4B5G8H5R6T6E6L3D2K2S2I3W3F```にしたい\n",
    "\n",
    "### 復号化\n",
    "さらに```4B5G8H5R6T6E6L3D2K2S2I3W3F```を```BBBBGGGGGHHHHHHHHRRRRRTTTTTTEEEEEELLLLLLDDDKKSSIIWWWFFF```に戻す。"
   ]
  },
  {
   "cell_type": "markdown",
   "metadata": {},
   "source": [
    "## 符号化\n",
    "まず適当な変数に文字列を格納する。"
   ]
  },
  {
   "cell_type": "code",
   "execution_count": 1,
   "metadata": {},
   "outputs": [],
   "source": [
    "word = 'BBBBGGGGGHHHHHHHHRRRRRTTTTTTEEEEEELLLLLLDDDKKSSIIWWWFFF'"
   ]
  },
  {
   "cell_type": "markdown",
   "metadata": {},
   "source": [
    "文字列の先頭から順番に見ていき、i+1番目の文字列がi番目と異なるところを検出する。  \n",
    "関数の引数にはとりあえずwordを設定。  \n",
    "\n",
    "```start```に0を格納しておき、```for i in range(1,len(word))```でiは1から始まるようにしておく。 \n",
    "\n",
    "こうすることで、一文字目と二文字目がいきなり違う場合にも対応できる。  \n",
    "1周ループをしたら、startにiを格納し、読み終わった文字列からstartするようにする  "
   ]
  },
  {
   "cell_type": "code",
   "execution_count": 2,
   "metadata": {},
   "outputs": [],
   "source": [
    "def ranlength(word):\n",
    "    word = word + '+'\n",
    "    start = 0\n",
    "    intervals = []\n",
    "    for i in range(1,len(word)):\n",
    "        if word[start] != word[i]:\n",
    "            intervals.append((start,i-1,word[start]))\n",
    "            start = i\n",
    "\n",
    "    for t in intervals:\n",
    "        print(str(t[1]-t[0]+1)+str(t[2]),sep='',end='')"
   ]
  },
  {
   "cell_type": "markdown",
   "metadata": {},
   "source": [
    "### 実行結果"
   ]
  },
  {
   "cell_type": "code",
   "execution_count": 3,
   "metadata": {},
   "outputs": [
    {
     "name": "stdout",
     "output_type": "stream",
     "text": [
      "4B5G8H5R6T6E6L3D2K2S2I3W3F"
     ]
    }
   ],
   "source": [
    "ranlength(word)"
   ]
  },
  {
   "cell_type": "markdown",
   "metadata": {},
   "source": [
    "### この結果を変数に格納したい\n",
    "- 符号化された結果を変数に格納して、それを復号化の関数に渡したい\n",
    "- ところがprint()で出力した場合、変数に格納できない・・・  "
   ]
  },
  {
   "cell_type": "code",
   "execution_count": 4,
   "metadata": {},
   "outputs": [
    {
     "name": "stdout",
     "output_type": "stream",
     "text": [
      "4B5G8H5R6T6E6L3D2K2S2I3W3F"
     ]
    }
   ],
   "source": [
    "#仮にoutputに結果を入れようとしても・・・\n",
    "output = ranlength(word)"
   ]
  },
  {
   "cell_type": "code",
   "execution_count": 6,
   "metadata": {},
   "outputs": [],
   "source": [
    "output #何も表示されない"
   ]
  },
  {
   "cell_type": "code",
   "execution_count": 8,
   "metadata": {},
   "outputs": [
    {
     "data": {
      "text/plain": [
       "NoneType"
      ]
     },
     "execution_count": 8,
     "metadata": {},
     "output_type": "execute_result"
    }
   ],
   "source": [
    "type(output) #NoneTypeになっているらしい"
   ]
  },
  {
   "cell_type": "markdown",
   "metadata": {},
   "source": [
    "#### いろいろ調べてみると、printしている結果を変数に入れるにはlistに文字列を格納して.joinで結合するのが楽らしい  \n",
    "\n",
    "というわけで、joinさせるためのリストを作る。  \n",
    "```intervals.append((start,i-1,word[start]))```とintervalsというリストにタプルを格納していたところに、  \n",
    "```intervals.append([str(i-start),word[start]])```のようにstartからi番目まで何文字あるかの数を文字列として格納し、  \n",
    "どのアルファベットが格納されているかを```word[start]```で格納。  \n",
    "\n",
    "それで作ったintervalsというリストをforループで見ていって、順番に```['文字数','文字','文字数','文字',...]```となるcodelistを作る。  \n",
    "最初からcodelistにappendしていけばよさそうな気もするが、それだと入れ子リストになってしまいうまくjoinに渡せないのでこちらの方法をとる。   \n",
    "また文字列の変化を検知しているので、最後にダミーの文字列を配置しておく。\n"
   ]
  },
  {
   "cell_type": "code",
   "execution_count": 9,
   "metadata": {},
   "outputs": [],
   "source": [
    "def ranlength_new(word):\n",
    "    word = word + '+'\n",
    "    start = 0\n",
    "    intervals = []\n",
    "    for i in range(1,len(word)):\n",
    "        if word[start] != word[i]:\n",
    "            intervals.append([str(i-start),word[start]])\n",
    "            start = i\n",
    "\n",
    "    codelist = []\n",
    "    for i in intervals:\n",
    "        codelist.append(i[0])\n",
    "        codelist.append(i[1])\n",
    "    code = ''.join(codelist)\n",
    "    return code"
   ]
  },
  {
   "cell_type": "code",
   "execution_count": 16,
   "metadata": {},
   "outputs": [
    {
     "data": {
      "text/plain": [
       "'4B5G8H5R6T6E6L3D2K2S2I3W3F'"
      ]
     },
     "execution_count": 16,
     "metadata": {},
     "output_type": "execute_result"
    }
   ],
   "source": [
    "# code という変数に格納されていることを確認\n",
    "code = ranlength_new(word)\n",
    "code"
   ]
  },
  {
   "cell_type": "markdown",
   "metadata": {},
   "source": [
    "## 変数に格納された符号化された結果を復号しよう\n",
    "\n",
    "同様に、startに0を入れ、順繰りに文字列を見ていく。  \n",
    "今回は数値かアルファベットかの違いを検知するため、教科書13頁でも紹介されている```.isalpha()```を用いる。  \n",
    "x.isalpha()はxがアルファベットならTrue、それ以外ならFalseを返すので、TrueとFalseが変わる箇所を検知。  \n",
    "変化が検知されたら、startしたところからiの一つ手間までの文字列を抜き出し、i番目にあるアルファベットと一緒にリストに入れる。  \n",
    "先ほどと異なり```（文字数)A```のような形で並んでいるので、次のループはiの次から始まるように、```start=i+1```とする。  \n",
    "残りは符号化の時と同じように処理する。  "
   ]
  },
  {
   "cell_type": "code",
   "execution_count": 25,
   "metadata": {},
   "outputs": [],
   "source": [
    "def decrypt(code):\n",
    "    start = 0\n",
    "    intervals,number,letter = [],[],[]  \n",
    "    for i in range(1,len(code)):\n",
    "        if code[start].isalpha() != code[i].isalpha():\n",
    "            intervals.append([code[start:i],code[i]])\n",
    "            number.append(int(code[start:i]))\n",
    "            letter.append(code[i])\n",
    "            start = i+1\n",
    "    _d = []\n",
    "    for i in range(0,len(number)):\n",
    "        _d.append(letter[i] * int(number[i]))\n",
    "        result = ''.join(_d)\n",
    "    return result"
   ]
  },
  {
   "cell_type": "code",
   "execution_count": 26,
   "metadata": {},
   "outputs": [
    {
     "data": {
      "text/plain": [
       "'BBBBGGGGGHHHHHHHHRRRRRTTTTTTEEEEEELLLLLLDDDKKSSIIWWWFFF'"
      ]
     },
     "execution_count": 26,
     "metadata": {},
     "output_type": "execute_result"
    }
   ],
   "source": [
    "result = decrypt(code)\n",
    "result"
   ]
  },
  {
   "cell_type": "code",
   "execution_count": 27,
   "metadata": {},
   "outputs": [
    {
     "data": {
      "text/plain": [
       "True"
      ]
     },
     "execution_count": 27,
     "metadata": {},
     "output_type": "execute_result"
    }
   ],
   "source": [
    "word == result"
   ]
  },
  {
   "cell_type": "markdown",
   "metadata": {},
   "source": [
    "もとの文字列と符号化・復号化した文字列が一致していることをチェックする"
   ]
  },
  {
   "cell_type": "code",
   "execution_count": null,
   "metadata": {},
   "outputs": [],
   "source": []
  }
 ],
 "metadata": {
  "kernelspec": {
   "display_name": "Python 3",
   "language": "python",
   "name": "python3"
  },
  "language_info": {
   "codemirror_mode": {
    "name": "ipython",
    "version": 3
   },
   "file_extension": ".py",
   "mimetype": "text/x-python",
   "name": "python",
   "nbconvert_exporter": "python",
   "pygments_lexer": "ipython3",
   "version": "3.7.1"
  }
 },
 "nbformat": 4,
 "nbformat_minor": 2
}
